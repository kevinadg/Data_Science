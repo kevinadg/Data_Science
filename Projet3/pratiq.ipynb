{
 "cells": [
  {
   "cell_type": "markdown",
   "metadata": {},
   "source": []
  },
  {
   "cell_type": "markdown",
   "metadata": {},
   "source": [
    "Exercice 1"
   ]
  },
  {
   "cell_type": "code",
   "execution_count": 91,
   "metadata": {},
   "outputs": [],
   "source": [
    "import pandas as pd\n",
    "import numpy as np\n",
    "import matplotlib.pyplot as plt\n",
    "from datetime import datetime\n",
    "import re\n",
    "import seaborn as sns"
   ]
  },
  {
   "cell_type": "markdown",
   "metadata": {},
   "source": [
    "1. Afficher les 10 premières lignes du fichier."
   ]
  },
  {
   "cell_type": "code",
   "execution_count": null,
   "metadata": {},
   "outputs": [],
   "source": [
    "df = pd.read_excel(\"/home/kevin/Téléchargements/employes_dataset.xlsx\")\n",
    "print(df)"
   ]
  },
  {
   "cell_type": "markdown",
   "metadata": {},
   "source": [
    "2. Afficher les noms de colonnes du fichier."
   ]
  },
  {
   "cell_type": "code",
   "execution_count": null,
   "metadata": {},
   "outputs": [],
   "source": [
    "print(df.columns)"
   ]
  },
  {
   "cell_type": "markdown",
   "metadata": {},
   "source": [
    "3.Compter le nombre d’hommes et de femmes."
   ]
  },
  {
   "cell_type": "code",
   "execution_count": null,
   "metadata": {},
   "outputs": [],
   "source": [
    "\n",
    "print(df['Sexe'].value_counts())\n"
   ]
  },
  {
   "cell_type": "markdown",
   "metadata": {},
   "source": [
    "4. Identifier les 5 pays les plus représentés"
   ]
  },
  {
   "cell_type": "code",
   "execution_count": null,
   "metadata": {},
   "outputs": [],
   "source": [
    "pays_top5 = df['Pays'].value_counts().head(5)\n",
    "\n",
    "print(\"Les 5 pays les plus représentés sont :\")\n",
    "print(pays_top5)"
   ]
  },
  {
   "cell_type": "markdown",
   "metadata": {},
   "source": [
    "5. Calculer le salaire moyen, médian, minimum, maximum et l’écart-type à l’aide de NumPy."
   ]
  },
  {
   "cell_type": "code",
   "execution_count": null,
   "metadata": {},
   "outputs": [],
   "source": [
    "salaires = df['Salaire (€)'].dropna().values\n",
    "\n",
    "# Calculs statistiques\n",
    "moyenne = np.mean(salaires)\n",
    "mediane = np.median(salaires)\n",
    "minimum = np.min(salaires)\n",
    "maximum = np.max(salaires)\n",
    "ecart_type = np.std(salaires)\n",
    "\n",
    "# Affichage des résultats\n",
    "print(f\" Salaire moyen : {moyenne:.2f} €\")\n",
    "print(f\" Salaire médian : {mediane:.2f} €\")\n",
    "print(f\" Salaire minimum : {minimum:.2f} €\")\n",
    "print(f\"Salaire maximum : {maximum:.2f} €\")\n",
    "print(f\"Écart-type des salaires : {ecart_type:.2f} €\")"
   ]
  },
  {
   "cell_type": "markdown",
   "metadata": {},
   "source": [
    "6. Donner l’âge moyen par département."
   ]
  },
  {
   "cell_type": "code",
   "execution_count": null,
   "metadata": {},
   "outputs": [],
   "source": [
    "age_moyen_dept = df.groupby('Département')['Âge'].mean()\n",
    "\n",
    "print(\"Âge moyen par département :\")\n",
    "print(age_moyen_dept)"
   ]
  },
  {
   "cell_type": "markdown",
   "metadata": {},
   "source": [
    "7. Trouver la ville ayant le plus grand nombre d’employés."
   ]
  },
  {
   "cell_type": "code",
   "execution_count": null,
   "metadata": {},
   "outputs": [],
   "source": [
    "ville_plus_employes = df['Ville'].value_counts().idxmax()\n",
    "nombre_employes = df['Ville'].value_counts().max()\n",
    "\n",
    "print(f\" La ville ayant le plus grand nombre d'employés est : {ville_plus_employes} ({nombre_employes} employés)\")"
   ]
  },
  {
   "cell_type": "markdown",
   "metadata": {},
   "source": [
    "8. Lister les 10 employés les mieux payés."
   ]
  },
  {
   "cell_type": "code",
   "execution_count": null,
   "metadata": {},
   "outputs": [],
   "source": [
    "top_10_salaire = df.sort_values(by='Salaire (€)', ascending=False).head(10)\n",
    "\n",
    "print(\"Les 10 employés les mieux payés sont :\")\n",
    "print(top_10_salaire[['Nom', 'Prénom', 'Salaire (€)']])"
   ]
  },
  {
   "cell_type": "markdown",
   "metadata": {},
   "source": [
    "9. Calculer le nombre d’employés par département et par sexe."
   ]
  },
  {
   "cell_type": "code",
   "execution_count": null,
   "metadata": {},
   "outputs": [],
   "source": [
    "nb_employes_dept_sexe = df.groupby(['Département', 'Sexe']).size()\n",
    "\n",
    "print(\"Nombre d'employés par département et par sexe :\")\n",
    "print(nb_employes_dept_sexe)"
   ]
  },
  {
   "cell_type": "markdown",
   "metadata": {},
   "source": [
    "10. Générer un graphique montrant la distribution des âges."
   ]
  },
  {
   "cell_type": "code",
   "execution_count": null,
   "metadata": {},
   "outputs": [],
   "source": [
    "\n",
    "\n",
    "plt.figure(figsize=(10, 6))\n",
    "plt.hist(df['Âge'].dropna(), bins=15, color='skyblue', edgecolor='black')\n",
    "plt.title(\"Distribution des âges des employés\")\n",
    "plt.xlabel(\"Âge\")\n",
    "plt.ylabel(\"Nombre d'employés\")\n",
    "plt.grid(True)\n",
    "plt.show()\n",
    "\n",
    "\n",
    "\n"
   ]
  },
  {
   "cell_type": "markdown",
   "metadata": {},
   "source": [
    "11. Identifier les colonnes contenant des valeurs manquantes."
   ]
  },
  {
   "cell_type": "code",
   "execution_count": null,
   "metadata": {},
   "outputs": [],
   "source": [
    "colonnes_manquantes = df.isnull().sum()\n",
    "\n",
    "colonnes_manquantes[colonnes_manquantes > 0]"
   ]
  },
  {
   "cell_type": "markdown",
   "metadata": {},
   "source": [
    "12. Remplacer les NaN de la colonne ‘Télétravail (%)’ par la moyenne de cette colonne."
   ]
  },
  {
   "cell_type": "code",
   "execution_count": 24,
   "metadata": {},
   "outputs": [],
   "source": [
    "df['Télétravail (%)'] = df['Télétravail (%)'].fillna(df['Télétravail (%)'].mean())\n"
   ]
  },
  {
   "cell_type": "markdown",
   "metadata": {},
   "source": [
    "13. Remplacer les NaN de la colonne ‘Télétravail (%)’ par une valeur estimée pertinente (par\n",
    "exemple, la moyenne par département ou selon l’âge)."
   ]
  },
  {
   "cell_type": "code",
   "execution_count": 25,
   "metadata": {},
   "outputs": [],
   "source": [
    "\n",
    "df['Télétravail (%)'] = df.groupby('Département')['Télétravail (%)'].transform(lambda x: x.fillna(x.mean()))\n"
   ]
  },
  {
   "cell_type": "markdown",
   "metadata": {},
   "source": [
    "14. Supprimer les lignes dont la colonne ‘Performance (Note)’ est manquante."
   ]
  },
  {
   "cell_type": "code",
   "execution_count": 26,
   "metadata": {},
   "outputs": [],
   "source": [
    "# Suppression des lignes avec une valeur NaN dans \"Performance (Note)\"\n",
    "df = df.dropna(subset=['Performance (Note)'])\n"
   ]
  },
  {
   "cell_type": "markdown",
   "metadata": {},
   "source": [
    "15. Proposez une stratégie pertinente pour gérer les valeurs manquantes dans ‘Performance\n",
    "(Note)’ : suppression, remplissage conditionnel, ou autre — justifiez votre choix."
   ]
  },
  {
   "cell_type": "code",
   "execution_count": 30,
   "metadata": {},
   "outputs": [],
   "source": [
    "# Remplacement des NaN par la médiane de chaque département\n",
    "df.loc['Performance (Note)'] = df.groupby('Département')['Performance (Note)'].transform(lambda x: x.fillna(x.median()))\n"
   ]
  },
  {
   "cell_type": "markdown",
   "metadata": {},
   "source": [
    "16. Convertir la colonne ‘Date d’embauche’ en format datetime."
   ]
  },
  {
   "cell_type": "code",
   "execution_count": 33,
   "metadata": {},
   "outputs": [],
   "source": [
    "# Conversion en format datetime\n",
    "df.loc['Date d\\'embauche'] = pd.to_datetime(df['Date d\\'embauche'])\n"
   ]
  },
  {
   "cell_type": "markdown",
   "metadata": {},
   "source": [
    "17. Créer une colonne ‘Ancienneté (années)’ basée sur la date d’embauche."
   ]
  },
  {
   "cell_type": "code",
   "execution_count": 37,
   "metadata": {},
   "outputs": [],
   "source": [
    "\n",
    "\n",
    "# Calcul de l'ancienneté\n",
    "df.loc['Ancienneté (années)'] = datetime.now().year - df['Date d\\'embauche'].dt.year\n"
   ]
  },
  {
   "cell_type": "markdown",
   "metadata": {},
   "source": [
    "18. Supprimer les doublons éventuels du fichier."
   ]
  },
  {
   "cell_type": "code",
   "execution_count": 38,
   "metadata": {},
   "outputs": [],
   "source": [
    "# Suppression des doublons\n",
    "df = df.drop_duplicates()\n"
   ]
  },
  {
   "cell_type": "markdown",
   "metadata": {},
   "source": [
    "19. Uniformiser les majuscules dans les colonnes ‘Nom’, ‘Prénom’, ‘Ville’, ‘Pays’."
   ]
  },
  {
   "cell_type": "code",
   "execution_count": 39,
   "metadata": {},
   "outputs": [],
   "source": [
    "# Mettre les valeurs en majuscules (ou en capitalisation correcte)\n",
    "colonnes_a_normaliser = ['Nom', 'Prénom', 'Ville', 'Pays']\n",
    "df[colonnes_a_normaliser] = df[colonnes_a_normaliser].apply(lambda x: x.str.title())\n"
   ]
  },
  {
   "cell_type": "markdown",
   "metadata": {},
   "source": [
    "20. Créer une colonne ‘Email valide’ qui indique si l’e-mail semble valide (xxx@xx.xx’)."
   ]
  },
  {
   "cell_type": "code",
   "execution_count": 42,
   "metadata": {},
   "outputs": [],
   "source": [
    "\n",
    "\n",
    "# Fonction pour valider les emails\n",
    "def est_email_valide(email):\n",
    "    return bool(re.match(r'^[\\w\\.-]+@[\\w\\.-]+\\.\\w+$', str(email)))\n",
    "\n",
    "df['Email valide'] = df['Email'].apply(est_email_valide)\n"
   ]
  },
  {
   "cell_type": "markdown",
   "metadata": {},
   "source": [
    "21. Supprimer les valeurs extrêmes (outliers) dans la colonne ‘Salaire’ en utilisant l’écart\n",
    "interquartile (IQR)."
   ]
  },
  {
   "cell_type": "code",
   "execution_count": 44,
   "metadata": {},
   "outputs": [],
   "source": [
    "Q1 = df['Salaire (€)'].quantile(0.25)\n",
    "Q3 = df['Salaire (€)'].quantile(0.75)\n",
    "IQR = Q3 - Q1\n",
    "seuil_bas = Q1 - 1.5 * IQR\n",
    "seuil_haut = Q3 + 1.5 * IQR\n",
    "\n",
    "df = df[(df['Salaire (€)'] >= seuil_bas) & (df['Salaire (€)'] <= seuil_haut)]\n"
   ]
  },
  {
   "cell_type": "markdown",
   "metadata": {},
   "source": [
    "22. Vérifier si la distribution des âges suit une loi normale à l’aide de NumPy"
   ]
  },
  {
   "cell_type": "code",
   "execution_count": null,
   "metadata": {},
   "outputs": [],
   "source": [
    "import scipy.stats as stats\n",
    "\n",
    "# Test de normalité de Shapiro-Wilk\n",
    "stat, p = stats.shapiro(df['Âge'])\n",
    "print(f\"Statistique de test : {stat}, p-valeur : {p}\")\n",
    "\n",
    "# Interprétation du résultat\n",
    "if p > 0.05:\n",
    "    print(\"Les âges suivent une distribution normale.\")\n",
    "else:\n",
    "    print(\"Les âges ne suivent pas une distribution normale.\")\n"
   ]
  },
  {
   "cell_type": "markdown",
   "metadata": {},
   "source": [
    "23. Créer une colonne ‘prime’ : si la performance est ≥ 4 et l’ancienneté ≥ 5 ans → 1000, sinon\n",
    "0 (avec NumPy)."
   ]
  },
  {
   "cell_type": "code",
   "execution_count": 51,
   "metadata": {},
   "outputs": [],
   "source": [
    "# Création de la colonne 'Prime' avec condition\n",
    "df.loc[:,'Prime'] = np.where((df['Performance (Note)'] >= 4) & (df['Ancienneté (années)'] >= 5), 1000, 0)\n"
   ]
  },
  {
   "cell_type": "markdown",
   "metadata": {},
   "source": [
    "24. Encoder la colonne ‘Sexe’ en valeurs numériques (0 pour Femme, 1 pour Homme)"
   ]
  },
  {
   "cell_type": "code",
   "execution_count": 58,
   "metadata": {},
   "outputs": [],
   "source": [
    "# Encodage de la colonne Sexe\n",
    "df.loc['Sexe'] = df['Sexe'].map({'Femme': 0, 'Homme': 1})\n"
   ]
  },
  {
   "cell_type": "markdown",
   "metadata": {},
   "source": [
    "25. Utilisez pd.cut() pour créer une nouvelle colonne ‘Tranche d’âge’ avec les intervalles\n",
    "suivants : 0-25, 26-30, 31-40"
   ]
  },
  {
   "cell_type": "code",
   "execution_count": 61,
   "metadata": {},
   "outputs": [],
   "source": [
    "# Définition des intervalles d'âge\n",
    "bins = [0, 25, 30, 40, np.inf]\n",
    "labels = ['0-25', '26-30', '31-40', '40+']\n",
    "\n",
    "# Création de la colonne \"Tranche d'âge\"\n",
    "df.loc['Tranche d\\'âge'] = pd.cut(df['Âge'], bins=bins, labels=labels)\n"
   ]
  },
  {
   "cell_type": "markdown",
   "metadata": {},
   "source": [
    "26. Ajoutez une colonne de langages (listes) fictive à 4 lignes et utilisez ‘explode()’ pour\n",
    "séparer chaque ligne par langage."
   ]
  },
  {
   "cell_type": "code",
   "execution_count": 69,
   "metadata": {},
   "outputs": [],
   "source": [
    "# Création d'une colonne fictive de langages\n",
    "df.loc[:3, 'Langages'] = ['Python, Java', 'C++, JavaScript', 'Python, SQL, R', 'Java, Swift']\n",
    "\n",
    "# Transformation de la colonne en liste\n",
    "df.loc['Langages'] = df['Langages'].str.split(', ')\n",
    "\n",
    "# Explosion des listes en plusieurs lignes\n",
    "df_exploded = df.explode('Langages')\n"
   ]
  },
  {
   "cell_type": "markdown",
   "metadata": {},
   "source": [
    "27. Transformez votre DataFrame avec un MultiIndex sur ‘Département’ et ‘Sexe’, puis\n",
    "utilisez ‘stack()’ et ‘unstack()’ pour observer la structure."
   ]
  },
  {
   "cell_type": "code",
   "execution_count": null,
   "metadata": {},
   "outputs": [],
   "source": [
    "df_multi = df.set_index(['Département', 'Sexe'])\n",
    "print(\"DataFrame avec MultiIndex :\")\n",
    "print(df_multi)\n",
    "df_stacked = df_multi.stack()\n",
    "print(\"\\nDataFrame après stack() :\")\n",
    "print(df_stacked)\n",
    "df_unstacked = df_stacked.unstack()\n",
    "print(\"\\nDataFrame après unstack() :\")\n",
    "print(df_unstacked)\n"
   ]
  },
  {
   "cell_type": "markdown",
   "metadata": {},
   "source": [
    "28. Détectez les outliers dans la colonne ‘Salaire’ avec la méthode de l’IQR, et créez un\n",
    "DataFrame les contenant."
   ]
  },
  {
   "cell_type": "code",
   "execution_count": null,
   "metadata": {},
   "outputs": [],
   "source": [
    "# Calcul de l'IQR\n",
    "Q1 = df['Salaire (€)'].quantile(0.25)\n",
    "Q3 = df['Salaire (€)'].quantile(0.75)\n",
    "IQR = Q3 - Q1\n",
    "\n",
    "seuil_bas = Q1 - 1.5 * IQR\n",
    "seuil_haut = Q3 + 1.5 * IQR\n",
    "\n",
    "# Filtrer les valeurs extrêmes\n",
    "outliers_salaire = df[(df['Salaire (€)'] < seuil_bas) | (df['Salaire (€)'] > seuil_haut)]\n",
    "print(outliers_salaire)\n"
   ]
  },
  {
   "cell_type": "markdown",
   "metadata": {},
   "source": [
    "29. Encodez la colonne ‘Département’ avec ‘get_dummies()’ pour préparer les données à une\n",
    "analyse automatique."
   ]
  },
  {
   "cell_type": "code",
   "execution_count": 83,
   "metadata": {},
   "outputs": [],
   "source": [
    "# Encodage one-hot de la colonne 'Département'\n",
    "df_encoded = pd.get_dummies(df, columns=['Département'])\n"
   ]
  },
  {
   "cell_type": "markdown",
   "metadata": {},
   "source": [
    "30. Ajoutez une colonne de date fictive (date d’inscription) et utilisez ‘.dt.year’ et ‘.dt.month’\n",
    "pour extraire les informations temporelles."
   ]
  },
  {
   "cell_type": "code",
   "execution_count": 85,
   "metadata": {},
   "outputs": [],
   "source": [
    "# Création d'une date fictive\n",
    "df['Date d\\'inscription'] = pd.date_range(start='2015-01-01', periods=len(df), freq='ME')\n",
    "\n",
    "# Extraction des informations temporelles\n",
    "df['Année d\\'inscription'] = df['Date d\\'inscription'].dt.year\n",
    "df['Mois d\\'inscription'] = df['Date d\\'inscription'].dt.month\n"
   ]
  },
  {
   "cell_type": "markdown",
   "metadata": {},
   "source": [
    "31. Créez une fonction personnalisée pour catégoriser l’âge et appliquez-la à votre\n",
    "DataFrame avec ‘pipe()’."
   ]
  },
  {
   "cell_type": "code",
   "execution_count": null,
   "metadata": {},
   "outputs": [],
   "source": [
    "# Fonction pour catégoriser l'âge\n",
    "def categoriser_age(df):\n",
    "    conditions = [\n",
    "        (df['Âge'] < 25),\n",
    "        (df['Âge'].between(25, 40)),\n",
    "        (df['Âge'] > 40)\n",
    "    ]\n",
    "    categories = ['Jeune', 'Adulte', 'Senior']\n",
    "    \n",
    "    # np.select() avec un default pour gérer les cas non couverts par les conditions\n",
    "    df['Catégorie Âge'] = np.select(conditions, categories, default='Inconnu')\n",
    "    return df\n",
    "\n",
    "# Application de la fonction avec pipe()\n",
    "df = df.pipe(categoriser_age)\n",
    "print(df)\n"
   ]
  },
  {
   "cell_type": "markdown",
   "metadata": {},
   "source": [
    "32. Utilisez Seaborn pour afficher un ‘barplot’ de l’âge moyen par département."
   ]
  },
  {
   "cell_type": "code",
   "execution_count": null,
   "metadata": {},
   "outputs": [],
   "source": [
    "\n",
    "\n",
    "# Création du barplot\n",
    "plt.figure(figsize=(10,5))\n",
    "sns.barplot(x=df['Département'], y=df['Âge'])\n",
    "plt.xticks(rotation=45)\n",
    "plt.title('Âge moyen par département')\n",
    "plt.show()\n"
   ]
  },
  {
   "cell_type": "markdown",
   "metadata": {},
   "source": [
    "33. Sauvegarder le DataFrame nettoyé dans un nouveau fichier Excel nommé\n",
    "‘employes_nettoyé.xlsx’."
   ]
  },
  {
   "cell_type": "code",
   "execution_count": 93,
   "metadata": {},
   "outputs": [],
   "source": [
    "# Sauvegarde en Excel\n",
    "df.to_excel('employes_nettoye.xlsx', index=False)\n"
   ]
  },
  {
   "cell_type": "markdown",
   "metadata": {},
   "source": [
    "34. Créer un histogramme de la répartition des âges."
   ]
  },
  {
   "cell_type": "code",
   "execution_count": null,
   "metadata": {},
   "outputs": [],
   "source": [
    "plt.hist(df['Âge'], bins=20, edgecolor='black')\n",
    "plt.xlabel('Âge')\n",
    "plt.ylabel('Nombre d\\'employés')\n",
    "plt.title('Répartition des âges')\n",
    "plt.show()\n"
   ]
  },
  {
   "cell_type": "markdown",
   "metadata": {},
   "source": [
    "35. Créer un graphique à barres montrant le nombre d’employés par département."
   ]
  },
  {
   "cell_type": "code",
   "execution_count": null,
   "metadata": {},
   "outputs": [],
   "source": [
    "df['Département'].value_counts().plot(kind='bar', color='skyblue')\n",
    "plt.xlabel('Département')\n",
    "plt.ylabel('Nombre d\\'employés')\n",
    "plt.title('Nombre d\\'employés par département')\n",
    "plt.xticks(rotation=45)\n",
    "plt.show()\n"
   ]
  },
  {
   "cell_type": "markdown",
   "metadata": {},
   "source": [
    "36. Créer un camembert (pie chart) montrant la répartition hommes/femmes."
   ]
  },
  {
   "cell_type": "code",
   "execution_count": null,
   "metadata": {},
   "outputs": [],
   "source": [
    "df['Sexe'].value_counts().plot.pie(autopct='%1.1f%%', colors=['pink', 'blue'])\n",
    "plt.title('Répartition Hommes/Femmes')\n",
    "plt.show()\n"
   ]
  },
  {
   "cell_type": "markdown",
   "metadata": {},
   "source": [
    "37. Créer un boxplot des salaires par département"
   ]
  },
  {
   "cell_type": "code",
   "execution_count": null,
   "metadata": {},
   "outputs": [],
   "source": [
    "sns.boxplot(x='Département', y='Salaire (€)', data=df)\n",
    "plt.xticks(rotation=45)\n",
    "plt.title('Répartition des salaires par département')\n",
    "plt.show()\n"
   ]
  },
  {
   "cell_type": "markdown",
   "metadata": {},
   "source": [
    "38. Générer une heatmap de corrélation entre les colonnes numériques (âge, salaire,\n",
    "performance, télétravail, ancienneté)."
   ]
  },
  {
   "cell_type": "code",
   "execution_count": null,
   "metadata": {},
   "outputs": [],
   "source": [
    "df_numeric = df.select_dtypes(include=['number'])\n",
    "\n",
    "# Calcul de la corrélation\n",
    "corr_matrix = df_numeric.corr()\n",
    "\n",
    "# Tracer la heatmap\n",
    "sns.heatmap(corr_matrix, annot=True, cmap='coolwarm', fmt=\".2f\")\n",
    "plt.title('Matrice de corrélation')\n",
    "plt.show()"
   ]
  },
  {
   "cell_type": "markdown",
   "metadata": {},
   "source": [
    "39. Tracer une courbe de l’évolution des embauches par année."
   ]
  },
  {
   "cell_type": "code",
   "execution_count": null,
   "metadata": {},
   "outputs": [],
   "source": [
    "df.groupby(df['Date d\\'embauche'].dt.year).size().plot(kind='line', marker='o')\n",
    "plt.xlabel('Année')\n",
    "plt.ylabel('Nombre d\\'embauches')\n",
    "plt.title('Évolution des embauches par année')\n",
    "plt.show()\n"
   ]
  },
  {
   "cell_type": "markdown",
   "metadata": {},
   "source": [
    "40. Créer un graphique combiné (barres + ligne) montrant le salaire moyen et la performance\n",
    "moyenne par département."
   ]
  },
  {
   "cell_type": "code",
   "execution_count": null,
   "metadata": {},
   "outputs": [],
   "source": [
    "fig, ax1 = plt.subplots()\n",
    "\n",
    "# Graphe en barres pour le salaire moyen\n",
    "df.groupby('Département')['Salaire (€)'].mean().plot(kind='bar', ax=ax1, color='blue', alpha=0.6)\n",
    "\n",
    "# Graphe en ligne pour la performance moyenne\n",
    "ax2 = ax1.twinx()\n",
    "df.groupby('Département')['Performance (Note)'].mean().plot(kind='line', marker='o', ax=ax2, color='red')\n",
    "\n",
    "ax1.set_xlabel('Département')\n",
    "ax1.set_ylabel('Salaire moyen', color='blue')\n",
    "ax2.set_ylabel('Performance moyenne', color='red')\n",
    "plt.title('Salaire et performance moyenne par département')\n",
    "plt.show()\n"
   ]
  },
  {
   "cell_type": "markdown",
   "metadata": {},
   "source": [
    "41. Visualiser la distribution des salaires avec un KDE plot (seaborn)."
   ]
  },
  {
   "cell_type": "code",
   "execution_count": null,
   "metadata": {},
   "outputs": [],
   "source": [
    "sns.kdeplot(df['Salaire (€)'], shade=True, color='green')\n",
    "plt.title('Distribution des salaires')\n",
    "plt.show()\n"
   ]
  },
  {
   "cell_type": "markdown",
   "metadata": {},
   "source": [
    "42. Tracer une carte thermique du nombre d’employés par pays et par sexe (tableau croisé sous\n",
    "forme de heatmap)."
   ]
  },
  {
   "cell_type": "code",
   "execution_count": null,
   "metadata": {},
   "outputs": [],
   "source": [
    "\n",
    "\n",
    "# Exemple de chargement de données\n",
    "# df = pd.read_excel('chemin_vers_votre_fichier.xlsx')\n",
    "\n",
    "# Vérifier les valeurs manquantes dans 'Pays' et 'Sexe'\n",
    "print(\"Vérification des valeurs manquantes dans 'Pays' et 'Sexe' :\")\n",
    "print(df[['Pays', 'Sexe']].isnull().sum())\n",
    "\n",
    "# Supprimer les lignes avec des valeurs manquantes dans 'Pays' ou 'Sexe'\n",
    "df = df.dropna(subset=['Pays', 'Sexe'])\n",
    "\n",
    "# Convertir les colonnes 'Pays' et 'Sexe' en chaînes de caractères pour éviter les erreurs de type\n",
    "df['Pays'] = df['Pays'].astype(str)\n",
    "df['Sexe'] = df['Sexe'].astype(str)\n",
    "\n",
    "# Créer la table pivotée avec 'Pays' comme index et 'Sexe' comme colonnes\n",
    "pivot_table = df.pivot_table(index='Pays', columns='Sexe', aggfunc='size', fill_value=0)\n",
    "\n",
    "# Vérifier le contenu de la table pivotée\n",
    "print(\"\\nTable pivotée :\")\n",
    "print(pivot_table)\n",
    "\n",
    "# Si la table pivotée n'est pas vide, générer et afficher la heatmap\n",
    "if not pivot_table.empty:\n",
    "    sns.heatmap(pivot_table, annot=True, cmap='Blues')\n",
    "    plt.title(\"Nombre d'employés par pays et par sexe\")\n",
    "    plt.show()\n",
    "else:\n",
    "    print(\"\\nLa table pivotée est vide.\")\n",
    "\n",
    "# Optionnel : Afficher les valeurs uniques dans 'Pays' et 'Sexe' pour vérifier les données\n",
    "print(\"\\nValeurs uniques dans 'Pays' et 'Sexe' :\")\n",
    "print(\"Pays :\", df['Pays'].unique())\n",
    "print(\"Sexe :\", df['Sexe'].unique())\n"
   ]
  },
  {
   "cell_type": "markdown",
   "metadata": {},
   "source": [
    "43. Générer un scatter plot entre l’âge et le salaire, en coloriant par note de performance."
   ]
  },
  {
   "cell_type": "code",
   "execution_count": null,
   "metadata": {},
   "outputs": [],
   "source": [
    "plt.scatter(df['Âge'], df['Salaire (€)'], c=df['Performance (Note)'], cmap='coolwarm', alpha=0.7)\n",
    "plt.colorbar(label='Performance (Note)')\n",
    "plt.xlabel('Âge')\n",
    "plt.ylabel('Salaire')\n",
    "plt.title('Relation entre âge et salaire')\n",
    "plt.show()\n"
   ]
  },
  {
   "cell_type": "markdown",
   "metadata": {},
   "source": [
    "EXERCICE 2"
   ]
  },
  {
   "cell_type": "markdown",
   "metadata": {},
   "source": [
    "1. Charger les données dans un DataFrame Pandas et afficher un aperçu général du jeu de données."
   ]
  },
  {
   "cell_type": "code",
   "execution_count": null,
   "metadata": {},
   "outputs": [],
   "source": [
    "\n",
    "# Charger le fichier Excel\n",
    "file_path = \"ecommerce_transactions.xlsx\"  # Remplace par le chemin correct si nécessaire\n",
    "df = pd.read_excel(file_path)\n",
    "\n",
    "# Afficher les premières lignes du dataset\n",
    "print(df.head())\n",
    "\n",
    "# Afficher des informations générales sur les données\n",
    "print(df.info())\n"
   ]
  },
  {
   "cell_type": "markdown",
   "metadata": {},
   "source": [
    "2. Afficher les dimensions du DataFrame et le type de chaque colonne."
   ]
  },
  {
   "cell_type": "code",
   "execution_count": null,
   "metadata": {},
   "outputs": [],
   "source": [
    "# Afficher les dimensions du DataFrame\n",
    "print(\"Dimensions du DataFrame :\", df.shape)\n",
    "\n",
    "# Afficher le type de chaque colonne\n",
    "print(\"\\nTypes de données par colonne :\")\n",
    "print(df.dtypes)\n"
   ]
  },
  {
   "cell_type": "markdown",
   "metadata": {},
   "source": [
    "3. Identifier les colonnes contenant des valeurs manquantes et proposer une stratégie adaptée pour\n",
    "les traiter (ex : selon la catégorie ou la méthode de paiement)."
   ]
  },
  {
   "cell_type": "code",
   "execution_count": null,
   "metadata": {},
   "outputs": [],
   "source": [
    "# Identifier les colonnes contenant des valeurs manquantes\n",
    "valeurs_manquantes = df.isnull().sum()\n",
    "\n",
    "# Calculer le pourcentage de valeurs manquantes\n",
    "pourcentage_manquant = (valeurs_manquantes / len(df)) * 100\n",
    "\n",
    "# Afficher uniquement les colonnes ayant des valeurs manquantes\n",
    "valeurs_manquantes_df = pd.DataFrame({'Valeurs manquantes': valeurs_manquantes, 'Pourcentage (%)': pourcentage_manquant})\n",
    "print(valeurs_manquantes_df[valeurs_manquantes_df[\"Valeurs manquantes\"] > 0])\n"
   ]
  },
  {
   "cell_type": "markdown",
   "metadata": {},
   "source": [
    "4. Supprimer les doublons éventuels."
   ]
  },
  {
   "cell_type": "code",
   "execution_count": null,
   "metadata": {},
   "outputs": [],
   "source": [
    "# Vérifier le nombre de doublons\n",
    "doublons_avant = df.duplicated().sum()\n",
    "print(f\"Nombre de doublons avant suppression : {doublons_avant}\")\n",
    "\n",
    "# Supprimer les doublons\n",
    "df = df.drop_duplicates()\n",
    "\n",
    "# Vérifier après suppression\n",
    "doublons_apres = df.duplicated().sum()\n",
    "print(f\"Nombre de doublons après suppression : {doublons_apres}\")\n"
   ]
  },
  {
   "cell_type": "markdown",
   "metadata": {},
   "source": [
    "5. Créer une colonne ‘Année-Mois’ à partir de la colonne ‘Date’ pour faciliter l’analyse temporelle."
   ]
  },
  {
   "cell_type": "code",
   "execution_count": null,
   "metadata": {},
   "outputs": [],
   "source": [
    "# Créer la colonne 'Année-Mois'\n",
    "df['Année-Mois'] = df['Date'].dt.to_period('M')\n",
    "\n",
    "# Vérifier le résultat\n",
    "print(df[['Date', 'Année-Mois']].head())\n"
   ]
  },
  {
   "cell_type": "markdown",
   "metadata": {},
   "source": [
    "6. Afficher les 5 pays générant le plus de chiffre d’affaires total."
   ]
  },
  {
   "cell_type": "code",
   "execution_count": null,
   "metadata": {},
   "outputs": [],
   "source": [
    "\n",
    "# Calculer le chiffre d'affaires total par pays\n",
    "chiffre_affaires_par_pays = df.groupby('Pays')['Montant total (€)'].sum()\n",
    "\n",
    "# Trier les pays par chiffre d'affaires décroissant et afficher les 5 premiers\n",
    "top_5_pays = chiffre_affaires_par_pays.sort_values(ascending=False).head(5)\n",
    "\n",
    "print(top_5_pays)\n"
   ]
  },
  {
   "cell_type": "markdown",
   "metadata": {},
   "source": [
    "7. Calculer le chiffre d’affaires total par catégorie de produits."
   ]
  },
  {
   "cell_type": "code",
   "execution_count": null,
   "metadata": {},
   "outputs": [],
   "source": [
    "# Calculer le chiffre d'affaires total par catégorie de produits\n",
    "chiffre_affaires_par_categorie = df.groupby('Catégorie')['Montant total (€)'].sum()\n",
    "\n",
    "# Afficher le résultat\n",
    "print(chiffre_affaires_par_categorie)\n"
   ]
  },
  {
   "cell_type": "markdown",
   "metadata": {},
   "source": [
    "8. Identifier les marques les plus vendus (en quantité) dans chaque catégorie."
   ]
  },
  {
   "cell_type": "code",
   "execution_count": null,
   "metadata": {},
   "outputs": [],
   "source": [
    "# Calculer la quantité totale vendue par marque et catégorie\n",
    "quantite_par_marque_categorie = df.groupby(['Catégorie', 'Marque'])['Quantité'].sum()\n",
    "\n",
    "# Trouver la marque la plus vendue dans chaque catégorie\n",
    "marque_max_par_categorie = quantite_par_marque_categorie.groupby('Catégorie').idxmax()\n",
    "\n",
    "# Afficher les résultats\n",
    "print(marque_max_par_categorie)\n"
   ]
  },
  {
   "cell_type": "markdown",
   "metadata": {},
   "source": [
    "9. Afficher les méthodes de paiement les plus utilisées par pays."
   ]
  },
  {
   "cell_type": "code",
   "execution_count": null,
   "metadata": {},
   "outputs": [],
   "source": [
    "# Calculer le nombre de transactions par méthode de paiement et par pays\n",
    "paiement_par_pays = df.groupby(['Pays', 'Méthode de paiement']).size()\n",
    "\n",
    "# Trouver la méthode de paiement la plus utilisée par pays\n",
    "paiement_max_par_pays = paiement_par_pays.groupby('Pays').idxmax()\n",
    "\n",
    "# Afficher les résultats\n",
    "print(paiement_max_par_pays)\n"
   ]
  },
  {
   "cell_type": "markdown",
   "metadata": {},
   "source": [
    "10. Déterminer la dépense moyenne par client et afficher les 10 plus gros clients."
   ]
  },
  {
   "cell_type": "code",
   "execution_count": null,
   "metadata": {},
   "outputs": [],
   "source": [
    "# Calculer la dépense totale par client\n",
    "depense_par_client = df.groupby('Client ID')['Montant total (€)'].sum()\n",
    "\n",
    "# Calculer la dépense moyenne par client\n",
    "depense_moyenne_par_client = df.groupby('Client ID')['Montant total (€)'].mean()\n",
    "\n",
    "# Afficher les 10 plus gros clients (par dépense totale)\n",
    "top_10_clients = depense_par_client.sort_values(ascending=False).head(10)\n",
    "\n",
    "# Afficher le résultat\n",
    "print(top_10_clients)\n",
    "top_10_clients_with_avg = pd.DataFrame({\n",
    "    'Dépense totale': top_10_clients,\n",
    "    'Dépense moyenne': depense_moyenne_par_client[top_10_clients.index]\n",
    "})\n",
    "\n",
    "print(top_10_clients_with_avg)\n"
   ]
  },
  {
   "cell_type": "markdown",
   "metadata": {},
   "source": [
    "11. Calculer la note moyenne par catégorie de marque et par pays."
   ]
  },
  {
   "cell_type": "code",
   "execution_count": null,
   "metadata": {},
   "outputs": [],
   "source": [
    "# Calculer la note moyenne par catégorie de marque et par pays\n",
    "note_moyenne_par_categorie_marque_pays = df.groupby(['Catégorie', 'Marque', 'Pays'])['Note client'].mean()\n",
    "\n",
    "# Afficher le résultat\n",
    "print(note_moyenne_par_categorie_marque_pays)\n"
   ]
  },
  {
   "cell_type": "markdown",
   "metadata": {},
   "source": [
    "12. Identifier les commandes avec une note manquante et déterminer s’il existe un schéma selon la\n",
    "catégorie ou le pays."
   ]
  },
  {
   "cell_type": "code",
   "execution_count": null,
   "metadata": {},
   "outputs": [],
   "source": [
    "# Filtrer les commandes avec une note manquante\n",
    "commandes_avec_note_manquante = df[df['Note client'].isna()]\n",
    "\n",
    "# Afficher les commandes avec une note manquante\n",
    "print(commandes_avec_note_manquante)\n",
    "\n",
    "# Calculer la distribution des catégories pour les commandes avec une note manquante\n",
    "distribution_par_categorie = commandes_avec_note_manquante['Catégorie'].value_counts()\n",
    "\n",
    "# Calculer la distribution des pays pour les commandes avec une note manquante\n",
    "distribution_par_pays = commandes_avec_note_manquante['Pays'].value_counts()\n",
    "\n",
    "# Afficher les résultats\n",
    "print(\"\\nDistribution des commandes avec note manquante par catégorie :\")\n",
    "print(distribution_par_categorie)\n",
    "\n",
    "print(\"\\nDistribution des commandes avec note manquante par pays :\")\n",
    "print(distribution_par_pays)\n"
   ]
  },
  {
   "cell_type": "markdown",
   "metadata": {},
   "source": [
    "13. Utiliser NumPy pour calculer la moyenne, la médiane, l’écart-type et les percentiles des\n",
    "montants totaux."
   ]
  },
  {
   "cell_type": "code",
   "execution_count": null,
   "metadata": {},
   "outputs": [],
   "source": [
    "import numpy as np\n",
    "\n",
    "# Extraire les montants totaux\n",
    "montants_totaux = df['Montant total (€)'].dropna()  # Supprimer les valeurs manquantes\n",
    "\n",
    "# Calculer la moyenne\n",
    "moyenne = np.mean(montants_totaux)\n",
    "\n",
    "# Calculer la médiane\n",
    "mediane = np.median(montants_totaux)\n",
    "\n",
    "# Calculer l'écart-type\n",
    "ecart_type = np.std(montants_totaux)\n",
    "\n",
    "# Calculer les percentiles (par exemple, les 25e, 50e (médiane), et 75e percentiles)\n",
    "percentiles = np.percentile(montants_totaux, [25, 50, 75])\n",
    "\n",
    "# Afficher les résultats\n",
    "print(f\"Moyenne : {moyenne:.2f} €\")\n",
    "print(f\"Médiane : {mediane:.2f} €\")\n",
    "print(f\"Écart-type : {ecart_type:.2f} €\")\n",
    "print(f\"Percentiles (25e, 50e, 75e) : {percentiles}\")\n"
   ]
  },
  {
   "cell_type": "markdown",
   "metadata": {},
   "source": [
    "14. Créer une colonne ‘Client fidèle’ : True si le client a effectué plus de 5 commandes."
   ]
  },
  {
   "cell_type": "code",
   "execution_count": null,
   "metadata": {},
   "outputs": [],
   "source": [
    "# Calculer le nombre de commandes par client\n",
    "commandes_par_client = df['Client ID'].value_counts()\n",
    "\n",
    "# Ajouter une colonne 'Client fidèle' dans le DataFrame\n",
    "df['Client fidèle'] = df['Client ID'].apply(lambda x: commandes_par_client[x] > 5)\n",
    "\n",
    "# Afficher les premières lignes pour vérifier\n",
    "print(df[['Client ID', 'Client fidèle']].head())\n"
   ]
  },
  {
   "cell_type": "markdown",
   "metadata": {},
   "source": [
    "15. Créer un graphique à barres montrant le chiffre d’affaires mensuel total."
   ]
  },
  {
   "cell_type": "code",
   "execution_count": null,
   "metadata": {},
   "outputs": [],
   "source": [
    "\n",
    "\n",
    "# Assurer que la colonne Date est bien au format datetime\n",
    "df['Date'] = pd.to_datetime(df['Date'])\n",
    "\n",
    "# Extraire le mois et l'année à partir de la colonne Date\n",
    "df['Mois'] = df['Date'].dt.to_period('M')\n",
    "\n",
    "# Calculer le chiffre d'affaires total par mois\n",
    "chiffre_affaires_mensuel = df.groupby('Mois')['Montant total (€)'].sum()\n",
    "\n",
    "# Créer un graphique à barres\n",
    "plt.figure(figsize=(10,6))\n",
    "chiffre_affaires_mensuel.plot(kind='bar', color='skyblue')\n",
    "\n",
    "# Ajouter un titre et des labels\n",
    "plt.title(\"Chiffre d'Affaires Mensuel Total\", fontsize=14)\n",
    "plt.xlabel(\"Mois\", fontsize=12)\n",
    "plt.ylabel(\"Chiffre d'Affaires Total (€)\", fontsize=12)\n",
    "\n",
    "# Afficher le graphique\n",
    "plt.xticks(rotation=45)\n",
    "plt.tight_layout()  # Pour éviter que les labels se chevauchent\n",
    "plt.show()\n"
   ]
  },
  {
   "cell_type": "markdown",
   "metadata": {},
   "source": [
    "16. Créer un pie chart montrant la répartition des ventes par catégorie."
   ]
  },
  {
   "cell_type": "code",
   "execution_count": null,
   "metadata": {},
   "outputs": [],
   "source": [
    "\n",
    "\n",
    "# Calculer le chiffre d'affaires total par catégorie\n",
    "ventes_par_categorie = df.groupby('Catégorie')['Montant total (€)'].sum()\n",
    "\n",
    "# Créer un pie chart (camembert)\n",
    "plt.figure(figsize=(8, 8))\n",
    "ventes_par_categorie.plot(kind='pie', autopct='%1.1f%%', colors=plt.cm.Paired.colors, startangle=90, legend=False)\n",
    "\n",
    "# Ajouter un titre\n",
    "plt.title(\"Répartition des Ventes par Catégorie\", fontsize=14)\n",
    "\n",
    "# Afficher le graphique\n",
    "plt.ylabel('')  # Masquer l'étiquette 'Catégorie' sur le côté\n",
    "plt.tight_layout()\n",
    "plt.show()\n"
   ]
  },
  {
   "cell_type": "markdown",
   "metadata": {},
   "source": [
    "17. Créer un boxplot comparant le montant des commandes par méthode de paiement."
   ]
  },
  {
   "cell_type": "code",
   "execution_count": null,
   "metadata": {},
   "outputs": [],
   "source": [
    "\n",
    "\n",
    "# Créer un boxplot comparant le montant des commandes par méthode de paiement\n",
    "plt.figure(figsize=(10, 6))\n",
    "sns.boxplot(x='Méthode de paiement', y='Montant total (€)', data=df, palette='Set2')\n",
    "\n",
    "# Ajouter un titre et des labels\n",
    "plt.title(\"Comparaison du Montant des Commandes par Méthode de Paiement\", fontsize=14)\n",
    "plt.xlabel(\"Méthode de Paiement\", fontsize=12)\n",
    "plt.ylabel(\"Montant Total (€)\", fontsize=12)\n",
    "\n",
    "# Afficher le graphique\n",
    "plt.xticks(rotation=45)\n",
    "plt.tight_layout()  # Pour éviter que les labels se chevauchent\n",
    "plt.show()\n"
   ]
  },
  {
   "cell_type": "markdown",
   "metadata": {},
   "source": [
    "18. Générer un heatmap des notes moyennes des clients par pays et par catégorie."
   ]
  },
  {
   "cell_type": "code",
   "execution_count": null,
   "metadata": {},
   "outputs": [],
   "source": [
    "\n",
    "\n",
    "# Calculer la note moyenne par pays et par catégorie\n",
    "note_moyenne_par_pays_categorie = df.groupby(['Pays', 'Catégorie'])['Note client'].mean().unstack()\n",
    "\n",
    "# Créer une heatmap\n",
    "plt.figure(figsize=(12, 8))\n",
    "sns.heatmap(note_moyenne_par_pays_categorie, annot=True, cmap=\"YlGnBu\", fmt=\".2f\", cbar=True)\n",
    "\n",
    "# Ajouter un titre et des labels\n",
    "plt.title(\"Notes Moyennes des Clients par Pays et par Catégorie\", fontsize=14)\n",
    "plt.xlabel(\"Catégorie\", fontsize=12)\n",
    "plt.ylabel(\"Pays\", fontsize=12)\n",
    "\n",
    "# Afficher la heatmap\n",
    "plt.tight_layout()\n",
    "plt.show()\n"
   ]
  },
  {
   "cell_type": "markdown",
   "metadata": {},
   "source": [
    "19. Créer un scatter plot entre la quantité et le montant total pour détecter des anomalies."
   ]
  },
  {
   "cell_type": "code",
   "execution_count": null,
   "metadata": {},
   "outputs": [],
   "source": [
    "\n",
    "\n",
    "# Créer un scatter plot entre la quantité et le montant total\n",
    "plt.figure(figsize=(10, 6))\n",
    "plt.scatter(df['Quantité'], df['Montant total (€)'], alpha=0.6, color='skyblue')\n",
    "\n",
    "# Ajouter un titre et des labels\n",
    "plt.title(\"Scatter Plot entre Quantité et Montant Total\", fontsize=14)\n",
    "plt.xlabel(\"Quantité\", fontsize=12)\n",
    "plt.ylabel(\"Montant Total (€)\", fontsize=12)\n",
    "\n",
    "# Afficher le graphique\n",
    "plt.tight_layout()\n",
    "plt.show()\n"
   ]
  },
  {
   "cell_type": "markdown",
   "metadata": {},
   "source": [
    "20. Sauvegarder le DataFrame nettoyé dans un fichier Excel nommé ‘ecommerce_transactions_clean.xlsx’"
   ]
  },
  {
   "cell_type": "code",
   "execution_count": 143,
   "metadata": {},
   "outputs": [
    {
     "name": "stdout",
     "output_type": "stream",
     "text": [
      "Le fichier a été sauvegardé avec succès sous le nom 'ecommerce_transactions_clean.xlsx'.\n"
     ]
    }
   ],
   "source": [
    "# Sauvegarder le DataFrame nettoyé dans un fichier Excel\n",
    "df.to_excel('ecommerce_transactions_clean.xlsx', index=False)\n",
    "\n",
    "print(\"Le fichier a été sauvegardé avec succès sous le nom 'ecommerce_transactions_clean.xlsx'.\")\n"
   ]
  }
 ],
 "metadata": {
  "kernelspec": {
   "display_name": "base",
   "language": "python",
   "name": "python3"
  },
  "language_info": {
   "codemirror_mode": {
    "name": "ipython",
    "version": 3
   },
   "file_extension": ".py",
   "mimetype": "text/x-python",
   "name": "python",
   "nbconvert_exporter": "python",
   "pygments_lexer": "ipython3",
   "version": "3.12.9"
  }
 },
 "nbformat": 4,
 "nbformat_minor": 2
}
